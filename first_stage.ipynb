{
 "cells": [
  {
   "cell_type": "code",
   "execution_count": 1,
   "metadata": {},
   "outputs": [],
   "source": [
    "import torch\n",
    "import matplotlib.pyplot as plt\n",
    "import struct\n",
    "from collections import  defaultdict\n",
    "\n",
    "from transformers import GPT2LMHeadModel\n",
    "from transformers import AutoTokenizer\n",
    "from transformers import LlamaForCausalLM\n",
    "from transformers import T5ForConditionalGeneration\n",
    "\n",
    "import tqdm"
   ]
  },
  {
   "cell_type": "code",
   "execution_count": 2,
   "metadata": {},
   "outputs": [],
   "source": [
    "def get_exponent(model, nbits):\n",
    "    exponent = {}\n",
    "    for idx, (name, param) in tqdm.tqdm(enumerate(model.named_parameters())):\n",
    "        # assert param.dtype is torch.float16\n",
    "        if param.ndim == 2 and param.shape[0] != 1 and param.shape[1] != 1:\n",
    "            r, c = param.shape\n",
    "            tensor_data = list(\n",
    "                map(lambda x: int(\n",
    "                        \"{}\".format(\n",
    "                                bin(\n",
    "                                    int.from_bytes(\n",
    "                                    struct.pack('>e', x), byteorder='big'\n",
    "                                    )\n",
    "                                )[3: 3+nbits]      # torch.float16 [3: 8] torch.bfloat16[3: 11]\n",
    "                            ), \n",
    "                            base=2\n",
    "                    ),\n",
    "                    param.abs().neg().reshape(-1).tolist()\n",
    "                )\n",
    "            )\n",
    "            tensor = torch.tensor(tensor_data, dtype=torch.int8).reshape(r, c)\n",
    "            exponent[name] = tensor\n",
    "    return exponent"
   ]
  },
  {
   "cell_type": "code",
   "execution_count": 3,
   "metadata": {},
   "outputs": [],
   "source": [
    "### Get the exponent ###\n",
    "models_hub = {\n",
    "    \"t5\": {\n",
    "        \"path\": \"/home/styaeng/project/delta-compress/pretrained_model/t5\",       ### 这里要写成下载后的模型权重文件所在的路径\n",
    "        \"hdlr\": T5ForConditionalGeneration.from_pretrained\n",
    "    },\n",
    "    \"gpt2\": {\n",
    "        \"path\": \"/home/styaeng/project/delta-compress/pretrained_model/gpt2\",       ### 这里要写成下载后的模型权重文件所在的路径\n",
    "        \"hdlr\": GPT2LMHeadModel.from_pretrained\n",
    "    },\n",
    "    \"llama2\": {\n",
    "        \"path\": \"/home/styaeng/project/delta-compress/pretrained_model/llama2\",       ### 这里要写成下载后的模型权重文件所在的路径\n",
    "        \"hdlr\": LlamaForCausalLM.from_pretrained\n",
    "    },\n",
    "}"
   ]
  },
  {
   "cell_type": "code",
   "execution_count": 4,
   "metadata": {},
   "outputs": [
    {
     "name": "stderr",
     "output_type": "stream",
     "text": [
      "131it [00:24,  5.39it/s]\n"
     ]
    }
   ],
   "source": [
    "t5_model = models_hub['t5']['hdlr'](models_hub['t5']['path'])\n",
    "t5_exponent = get_exponent(t5_model, nbits=5)"
   ]
  },
  {
   "cell_type": "code",
   "execution_count": 5,
   "metadata": {},
   "outputs": [],
   "source": [
    "# gpt2_model = models_hub['gpt2']['hdlr'](models_hub['gpt2']['path'])\n",
    "# gpt2_exponent = get_exponent(gpt2_model, nbits=5)"
   ]
  },
  {
   "cell_type": "code",
   "execution_count": 6,
   "metadata": {},
   "outputs": [],
   "source": [
    "# llama2_model = models_hub['llama2']['hdlr'](models_hub['llama2']['path'])\n",
    "# llama2_exponent = get_exponent(llama2_model, nbits=5)"
   ]
  },
  {
   "cell_type": "code",
   "execution_count": 7,
   "metadata": {},
   "outputs": [],
   "source": [
    "PageSize = 4 * 1024 * 8 # bits\n",
    "FP16 = 16   # bits\n",
    "\n",
    "'''\n",
    "2 bits\n",
    "    [0 | 1 | 2 | 3]\n",
    "3 bits\n",
    "    [0 | 1 | 2 | 3 | 4 | 5 | 6 | 7]\n",
    "4 bits\n",
    "    [0-15]\n",
    "5 bits\n",
    "    [0]\n",
    "'''\n",
    "'''\n",
    "in bits and in pages\n",
    "compression ratio\n",
    "saved storage space\n",
    "fraction\n",
    "how much pages are needed to read in average and maximum\n",
    "'''\n",
    "pattern = [\n",
    "    [0, 1, 2, 3],\n",
    "    [0, 1, 2, 3, 4, 5, 6, 7],\n",
    "    [0, 1, 2, 3, 4, 5, 6, 7, 8, 9, 10, 11, 12, 13, 14, 15],\n",
    "    [i for i in range(2**5)],\n",
    "]"
   ]
  },
  {
   "cell_type": "code",
   "execution_count": 8,
   "metadata": {},
   "outputs": [],
   "source": [
    "tensor_gran_pattern = defaultdict(dict)\n",
    "for k, tensor in t5_exponent.items():\n",
    "    row, col = tensor.shape\n",
    "    tensor_gran_pattern[k] = defaultdict(dict)\n",
    "    if tensor.numel() * FP16 <= PageSize:\n",
    "        tensor_gran_pattern[k] == \"LTP\"\n",
    "    else:\n",
    "        for shift in range(3, -1, -1):\n",
    "            idx = 3 - shift\n",
    "            pat = pattern[idx]\n",
    "            tmp = tensor >> shift\n",
    "            for elem in pat:\n",
    "                tensor_gran_pattern[k][idx+2][elem] = torch.count_nonzero(tmp == elem).item()"
   ]
  },
  {
   "cell_type": "code",
   "execution_count": null,
   "metadata": {},
   "outputs": [],
   "source": [
    "### parser the list tensor_gran_pattern\n",
    "bits = [2, 3, 4, 5]\n",
    "road_map = defaultdict(dict)\n",
    "# results = defaultdict(dict)\n",
    "for name, candidate in tensor_gran_pattern.items():\n",
    "    print(name+':')\n",
    "    max_ratio = 0\n",
    "    if len(candidate) == 0:\n",
    "        # compressed_model_size += 1\n",
    "        road_map[name][\"max_ratio\"] = [\n",
    "            (\"page_size\", 1)\n",
    "        ]\n",
    "        print(f\"Orig_page:{1}\\tunnecessary to compress\")\n",
    "        continue\n",
    "    else:\n",
    "        for bit in bits:\n",
    "            stats = sorted(candidate[bit].items(), key=lambda x: x[1], reverse=True)\n",
    "            total_page = {}\n",
    "            cnt_stat = 0\n",
    "            for pat, cnt in stats:\n",
    "                after_compressed_bit = cnt * (FP16 - bit) + bit\n",
    "                pattern_page = (after_compressed_bit + PageSize - 1) // PageSize\n",
    "                cnt_stat += cnt\n",
    "                if pattern_page == 1:\n",
    "                    frac_bits = PageSize - (cnt * (FP16 - bit) + bit)\n",
    "                    if frac_bits > after_compressed_bit:\n",
    "                        break\n",
    "                elif pattern_page > 0:\n",
    "                    total_page[pat] = pattern_page\n",
    "            road_map[name][bit] = total_page\n",
    "\n",
    "            stats = dict(stats)\n",
    "            original_tensor_page = (sum(list(stats.values())) * FP16 + PageSize - 1) // PageSize\n",
    "            compressed_part = sum(list(total_page.values()))\n",
    "            uncompressed_part = ((sum(stats.values()) - cnt_stat) * FP16 + PageSize - 1) // PageSize\n",
    "            compressed_page = compressed_part + uncompressed_part\n",
    "            ratio = (original_tensor_page - compressed_page)/original_tensor_page\n",
    "            if ratio > max_ratio:\n",
    "                max_ratio = ratio\n",
    "                road_map[name]['max_ratio'] = [\n",
    "                    (\"bits\", bit),\n",
    "                    (\"compression_ratio\", ratio)\n",
    "                ]\n",
    "                print(f\"Bit:{bit}\\tOrig_page:{original_tensor_page}\\tcompressed_page:{compressed_page}\\tcompression_ratio:{ratio* 100 :.2f}\")\n"
   ]
  },
  {
   "cell_type": "code",
   "execution_count": 36,
   "metadata": {},
   "outputs": [
    {
     "data": {
      "text/plain": [
       "{0: 36,\n",
       " 1: 32,\n",
       " 2: 69,\n",
       " 3: 141,\n",
       " 4: 277,\n",
       " 5: 614,\n",
       " 6: 1187,\n",
       " 7: 2317,\n",
       " 8: 4729,\n",
       " 9: 9277,\n",
       " 10: 18669,\n",
       " 11: 37359,\n",
       " 12: 74808,\n",
       " 13: 148944,\n",
       " 14: 299011,\n",
       " 15: 599325,\n",
       " 16: 1197612,\n",
       " 17: 2375694,\n",
       " 18: 4139532,\n",
       " 19: 4871473,\n",
       " 20: 2505601,\n",
       " 21: 162449,\n",
       " 22: 373,\n",
       " 23: 6,\n",
       " 24: 1,\n",
       " 25: 0,\n",
       " 26: 0,\n",
       " 27: 0,\n",
       " 28: 0,\n",
       " 29: 0,\n",
       " 30: 0,\n",
       " 31: 0}"
      ]
     },
     "execution_count": 36,
     "metadata": {},
     "output_type": "execute_result"
    }
   ],
   "source": [
    "tensor_gran_pattern['shared.weight'][5]"
   ]
  },
  {
   "cell_type": "code",
   "execution_count": 39,
   "metadata": {},
   "outputs": [
    {
     "data": {
      "text/plain": [
       "torch.Size([32128, 512])"
      ]
     },
     "execution_count": 39,
     "metadata": {},
     "output_type": "execute_result"
    }
   ],
   "source": [
    "t5_exponent['shared.weight'].shape"
   ]
  },
  {
   "cell_type": "code",
   "execution_count": 46,
   "metadata": {},
   "outputs": [
    {
     "name": "stdout",
     "output_type": "stream",
     "text": [
      "1438.9524326279616\n"
     ]
    }
   ],
   "source": [
    "avg_count = 0\n",
    "for idx, count in enumerate(list(road_map['shared.weight'][5].values())):\n",
    "    avg_count += (idx+1) * count/sum(road_map['shared.weight'][5].values())\n",
    "avg_count += (idx+1) * 1/(sum(road_map['shared.weight'][5].values()))\n",
    "\n",
    "print(avg_count * 512)"
   ]
  },
  {
   "cell_type": "code",
   "execution_count": 37,
   "metadata": {},
   "outputs": [
    {
     "data": {
      "text/plain": [
       "{19: 1636,\n",
       " 18: 1390,\n",
       " 20: 842,\n",
       " 17: 798,\n",
       " 16: 403,\n",
       " 15: 202,\n",
       " 14: 101,\n",
       " 21: 55,\n",
       " 13: 50,\n",
       " 12: 26,\n",
       " 11: 13,\n",
       " 10: 7,\n",
       " 9: 4,\n",
       " 8: 2}"
      ]
     },
     "execution_count": 37,
     "metadata": {},
     "output_type": "execute_result"
    }
   ],
   "source": [
    "road_map['shared.weight'][5]"
   ]
  },
  {
   "cell_type": "code",
   "execution_count": 29,
   "metadata": {},
   "outputs": [
    {
     "name": "stdout",
     "output_type": "stream",
     "text": [
      "28.39 %\n"
     ]
    }
   ],
   "source": [
    "compressed_ratio = 0\n",
    "for k, v in t5_exponent.items():\n",
    "    if len(road_map[k]['max_ratio']) == 1:\n",
    "        compressed_ratio += 0\n",
    "    else:\n",
    "        compressed_ratio += road_map[k]['max_ratio'][-1][-1]\n",
    "print(f\"{compressed_ratio / len(road_map) * 100:.2f} %\")"
   ]
  },
  {
   "cell_type": "code",
   "execution_count": 6,
   "metadata": {},
   "outputs": [],
   "source": [
    "### Get the percentage in tile granularity ###\n",
    "tile_gran_pattern = []\n",
    "PageSize = 4 * 1024 * 8 # bits\n",
    "FP16 = 16   # bits\n",
    "for k, tensor in t5_exponent.items():\n",
    "    tile_pattern = defaultdict(dict)\n",
    "    row, col = tensor.shape\n",
    "    if col * FP16 <= PageSize:\n",
    "        tile_pattern[k] = \"LTP\"     # a.k.a of \"Less Than PageSize\"\n",
    "    else:\n",
    "        for row_idx in range(row):\n",
    "            tile = tensor[row_idx]\n",
    "            for shift in range(3, -1, -1):\n",
    "                tile_pattern[k][row_idx] = defaultdict(dict)\n",
    "                idx = 3 - shift\n",
    "                pat = pattern[idx]\n",
    "                tmp = tile >> shift\n",
    "                for elem in pat:\n",
    "                    tile_pattern[k][row_idx][shift][elem] = torch.count_nonzero(tmp == elem).item()\n",
    "    tile_gran_pattern.append(tile_pattern)"
   ]
  },
  {
   "cell_type": "code",
   "execution_count": 19,
   "metadata": {},
   "outputs": [],
   "source": [
    "### Get the percentage in matrix granularity ###\n",
    "PageSize = 4 * 1024 * 8 # bits\n",
    "FP16 = 16   # bits\n",
    "mat_gran_pattern = []\n",
    "for name, tensor in t5_exponent.items():\n",
    "    row, col = tensor.shape\n",
    "    higher_cur = 0\n",
    "    lower_cur = higher_cur + PageSize // (col * FP16)\n",
    "    tensor_pattern = defaultdict(dict)\n",
    "    tensor_pattern['name'] = name\n",
    "    while lower_cur <= row:\n",
    "        tile_pattern = {}\n",
    "        tile = tensor[higher_cur: lower_cur]\n",
    "        for shift in range(3, -1, -1):\n",
    "            idx = 3 - shift\n",
    "            pat = pattern[idx]\n",
    "            tmp = tile >> shift\n",
    "            tile_pattern[idx+2] = {}\n",
    "            for elem in pat:\n",
    "                tile_pattern[idx+2][elem] = torch.count_nonzero(tmp == elem).item()\n",
    "        for bit in range(2, 5):\n",
    "            values = torch.tensor(list(tile_pattern[bit].values())).sort()[0]\n",
    "            values = torch.sort(values, descending=True)[0]\n",
    "            wasted_bits = (tile.numel() * FP16 + PageSize - 1) // PageSize * PageSize - values.sum() * FP16\n",
    "            flag = False\n",
    "            compressed_count = 0\n",
    "            for grp_count, v in enumerate(values):\n",
    "                v = v.item()\n",
    "                wasted_bits -= (v * (FP16 - bit) + bit - v * FP16)\n",
    "                compressed_count += v\n",
    "                original_bit_count = tile.numel() * FP16\n",
    "                original_page_count = (original_bit_count + PageSize - 1) // PageSize\n",
    "                compressed_bit_count = (v * (FP16 - bit) + bit) * grp_count + (values.sum().item() - compressed_count) * FP16\n",
    "                compressed_page_count = (compressed_bit_count + PageSize - 1) // PageSize\n",
    "                frac = compressed_page_count * PageSize - compressed_bit_count\n",
    "                if wasted_bits >= PageSize:\n",
    "                    flag = True\n",
    "                    break\n",
    "            if flag:\n",
    "                break\n",
    "        if lower_cur == row:\n",
    "            tensor_pattern[f\"{higher_cur}:{lower_cur}\"][\"original_bit_count\"] = original_bit_count\n",
    "            tensor_pattern[f\"{higher_cur}:{lower_cur}\"][\"compressed_bit_count\"] = compressed_bit_count\n",
    "            tensor_pattern[f\"{higher_cur}:{lower_cur}\"][\"compressed_page_count\"] = compressed_page_count\n",
    "            break\n",
    "        if not flag:\n",
    "            if (row - higher_cur) * col * FP16 < PageSize:\n",
    "                lower_cur = row\n",
    "            else:\n",
    "                lower_cur += 1\n",
    "        else:\n",
    "            if frac > compressed_bit_count:\n",
    "                if (row - higher_cur) * col * FP16 < PageSize:\n",
    "                    lower_cur = row\n",
    "                else:\n",
    "                    lower_cur += 1\n",
    "            else:\n",
    "                tensor_pattern[f\"{higher_cur}:{lower_cur}\"][\"original_bit_count\"] = original_bit_count\n",
    "                tensor_pattern[f\"{higher_cur}:{lower_cur}\"][\"compressed_bit_count\"] = compressed_bit_count\n",
    "                tensor_pattern[f\"{higher_cur}:{lower_cur}\"][\"compressed_page_count\"] = compressed_page_count\n",
    "                if (row - higher_cur) * col * FP16 < PageSize:\n",
    "                    lower_cur = row\n",
    "                else:\n",
    "                    higher_cur = lower_cur\n",
    "                    lower_cur = higher_cur + PageSize // (col * FP16)\n",
    "                    if lower_cur > row:\n",
    "                        lower_cur = row\n",
    "    mat_gran_pattern.append(tensor_pattern)"
   ]
  },
  {
   "cell_type": "code",
   "execution_count": 23,
   "metadata": {},
   "outputs": [
    {
     "name": "stdout",
     "output_type": "stream",
     "text": [
      "Compression ratio = 47.02%\n"
     ]
    }
   ],
   "source": [
    "compressed_ratio = 0\n",
    "cp = 0\n",
    "ucp = 0\n",
    "for idx, (k, v) in enumerate(t5_exponent.items()):\n",
    "    stats = list(mat_gran_pattern[idx].values())[1:]\n",
    "    for stat in stats:\n",
    "        cp += stat['compressed_page_count']\n",
    "    ucp += (v.numel() * FP16 // PageSize)\n",
    "        # compressed_ratio += cp_r\n",
    "print(f\"Compression ratio = {(ucp - cp) / ucp * 100:.2f}%\")\n"
   ]
  },
  {
   "cell_type": "code",
   "execution_count": 23,
   "metadata": {},
   "outputs": [],
   "source": [
    "### Get the percentage in matrix granularity ###\n",
    "PageSize = 4 * 1024 * 8 # bits\n",
    "FP16 = 16   # bits\n",
    "mat_gran_pattern = []\n",
    "for name, tensor in gpt2_exponent.items():\n",
    "    row, col = tensor.shape\n",
    "    higher_cur = 0\n",
    "    lower_cur = higher_cur + PageSize // (col * FP16)\n",
    "    tensor_pattern = defaultdict(dict)\n",
    "    tensor_pattern['name'] = name\n",
    "    while lower_cur <= row:\n",
    "        tile_pattern = {}\n",
    "        tile = tensor[higher_cur: lower_cur]\n",
    "        for shift in range(3, -1, -1):\n",
    "            idx = 3 - shift\n",
    "            pat = pattern[idx]\n",
    "            tmp = tile >> shift\n",
    "            tile_pattern[idx+2] = {}\n",
    "            for elem in pat:\n",
    "                tile_pattern[idx+2][elem] = torch.count_nonzero(tmp == elem).item()\n",
    "        for bit in range(2, 5):\n",
    "            values = torch.tensor(list(tile_pattern[bit].values())).sort()[0]\n",
    "            values = torch.sort(values, descending=True)[0]\n",
    "            wasted_bits = (tile.numel() * FP16 + PageSize - 1) // PageSize * PageSize - values.sum() * FP16\n",
    "            flag = False\n",
    "            compressed_count = 0\n",
    "            for grp_count, v in enumerate(values):\n",
    "                v = v.item()\n",
    "                wasted_bits -= (v * (FP16 - bit) + bit - v * FP16)\n",
    "                compressed_count += v\n",
    "                original_bit_count = tile.numel() * FP16\n",
    "                original_page_count = (original_bit_count + PageSize - 1) // PageSize\n",
    "                compressed_bit_count = (v * (FP16 - bit) + bit) * grp_count + (values.sum().item() - compressed_count) * FP16\n",
    "                compressed_page_count = (compressed_bit_count + PageSize - 1) // PageSize\n",
    "                frac = compressed_page_count * PageSize - compressed_bit_count\n",
    "                if wasted_bits >= PageSize:\n",
    "                    flag = True\n",
    "                    break\n",
    "        if lower_cur == row:\n",
    "            tensor_pattern[f\"{higher_cur}:{lower_cur}\"][\"original_bit_count\"] = original_bit_count\n",
    "            tensor_pattern[f\"{higher_cur}:{lower_cur}\"][\"compressed_bit_count\"] = compressed_bit_count\n",
    "            tensor_pattern[f\"{higher_cur}:{lower_cur}\"][\"compressed_page_count\"] = compressed_page_count\n",
    "            break\n",
    "        if not flag:\n",
    "            if (row - higher_cur) * col * FP16 < PageSize:\n",
    "                lower_cur = row\n",
    "            else:\n",
    "                lower_cur += 1\n",
    "        else:\n",
    "            if frac > compressed_bit_count:\n",
    "                if (row - higher_cur) * col * FP16 < PageSize:\n",
    "                    lower_cur = row\n",
    "                else:\n",
    "                    lower_cur += 1\n",
    "            else:\n",
    "                tensor_pattern[f\"{higher_cur}:{lower_cur}\"][\"original_bit_count\"] = original_bit_count\n",
    "                tensor_pattern[f\"{higher_cur}:{lower_cur}\"][\"compressed_bit_count\"] = compressed_bit_count\n",
    "                tensor_pattern[f\"{higher_cur}:{lower_cur}\"][\"compressed_page_count\"] = compressed_page_count\n",
    "                if (row - higher_cur) * col * FP16 < PageSize:\n",
    "                    lower_cur = row\n",
    "                else:\n",
    "                    higher_cur = lower_cur\n",
    "                    lower_cur = higher_cur + PageSize // (col * FP16)\n",
    "                    if lower_cur > row:\n",
    "                        lower_cur = row\n",
    "    mat_gran_pattern.append(tensor_pattern)"
   ]
  },
  {
   "cell_type": "code",
   "execution_count": 24,
   "metadata": {},
   "outputs": [
    {
     "name": "stdout",
     "output_type": "stream",
     "text": [
      "Compression ratio = 19.54%\n"
     ]
    }
   ],
   "source": [
    "compressed_ratio = 0\n",
    "cp = 0\n",
    "ucp = 0\n",
    "for idx, (k, v) in enumerate(gpt2_exponent.items()):\n",
    "    stats = list(mat_gran_pattern[idx].values())[1:]\n",
    "    for stat in stats:\n",
    "        cp += stat['compressed_page_count']\n",
    "    ucp += (v.numel() * FP16 // PageSize)\n",
    "        # compressed_ratio += cp_r\n",
    "print(f\"Compression ratio = {(ucp - cp) / ucp * 100:.2f}%\")"
   ]
  },
  {
   "cell_type": "code",
   "execution_count": null,
   "metadata": {},
   "outputs": [],
   "source": [
    "### Get the percentage in matrix granularity ###\n",
    "PageSize = 4 * 1024 * 8 # bits\n",
    "FP16 = 16   # bits\n",
    "mat_gran_pattern = []\n",
    "for name, tensor in llama2_exponent.items():\n",
    "    row, col = tensor.shape\n",
    "    higher_cur = 0\n",
    "    lower_cur = higher_cur + PageSize // (col * FP16)\n",
    "    tensor_pattern = defaultdict(dict)\n",
    "    tensor_pattern['name'] = name\n",
    "    while lower_cur <= row:\n",
    "        tile_pattern = {}\n",
    "        tile = tensor[higher_cur: lower_cur]\n",
    "        for shift in range(3, -1, -1):\n",
    "            idx = 3 - shift\n",
    "            pat = pattern[idx]\n",
    "            tmp = tile >> shift\n",
    "            tile_pattern[idx+2] = {}\n",
    "            for elem in pat:\n",
    "                tile_pattern[idx+2][elem] = torch.count_nonzero(tmp == elem).item()\n",
    "        for bit in range(2, 5):\n",
    "            values = torch.tensor(list(tile_pattern[bit].values())).sort()[0]\n",
    "            values = torch.sort(values, descending=True)[0]\n",
    "            wasted_bits = (tile.numel() * FP16 + PageSize - 1) // PageSize * PageSize - values.sum() * FP16\n",
    "            flag = False\n",
    "            compressed_count = 0\n",
    "            for grp_count, v in enumerate(values):\n",
    "                v = v.item()\n",
    "                wasted_bits -= (v * (FP16 - bit) + bit - v * FP16)\n",
    "                compressed_count += v\n",
    "                original_bit_count = tile.numel() * FP16\n",
    "                original_page_count = (original_bit_count + PageSize - 1) // PageSize\n",
    "                compressed_bit_count = (v * (FP16 - bit) + bit) * grp_count + (values.sum().item() - compressed_count) * FP16\n",
    "                compressed_page_count = (compressed_bit_count + PageSize - 1) // PageSize\n",
    "                frac = compressed_page_count * PageSize - compressed_bit_count\n",
    "                if wasted_bits >= PageSize:\n",
    "                    flag = True\n",
    "                    break\n",
    "        if lower_cur == row:\n",
    "            tensor_pattern[f\"{higher_cur}:{lower_cur}\"][\"original_bit_count\"] = original_bit_count\n",
    "            tensor_pattern[f\"{higher_cur}:{lower_cur}\"][\"compressed_bit_count\"] = compressed_bit_count\n",
    "            tensor_pattern[f\"{higher_cur}:{lower_cur}\"][\"compressed_page_count\"] = compressed_page_count\n",
    "            break\n",
    "        if not flag:\n",
    "            if (row - higher_cur) * col * FP16 < PageSize:\n",
    "                lower_cur = row\n",
    "            else:\n",
    "                lower_cur += 1\n",
    "        else:\n",
    "            if frac > compressed_bit_count:\n",
    "                if (row - higher_cur) * col * FP16 < PageSize:\n",
    "                    lower_cur = row\n",
    "                else:\n",
    "                    lower_cur += 1\n",
    "            else:\n",
    "                tensor_pattern[f\"{higher_cur}:{lower_cur}\"][\"original_bit_count\"] = original_bit_count\n",
    "                tensor_pattern[f\"{higher_cur}:{lower_cur}\"][\"compressed_bit_count\"] = compressed_bit_count\n",
    "                tensor_pattern[f\"{higher_cur}:{lower_cur}\"][\"compressed_page_count\"] = compressed_page_count\n",
    "                if (row - higher_cur) * col * FP16 < PageSize:\n",
    "                    lower_cur = row\n",
    "                else:\n",
    "                    higher_cur = lower_cur\n",
    "                    lower_cur = higher_cur + PageSize // (col * FP16)\n",
    "                    if lower_cur > row:\n",
    "                        lower_cur = row\n",
    "    mat_gran_pattern.append(tensor_pattern)"
   ]
  },
  {
   "cell_type": "code",
   "execution_count": null,
   "metadata": {},
   "outputs": [],
   "source": [
    "compressed_ratio = 0\n",
    "cp = 0\n",
    "ucp = 0\n",
    "for idx, (k, v) in enumerate(llama2_exponent.items()):\n",
    "    stats = list(mat_gran_pattern[idx].values())[1:]\n",
    "    for stat in stats:\n",
    "        cp += stat['compressed_page_count']\n",
    "    ucp += (v.numel() * FP16 // PageSize)\n",
    "        # compressed_ratio += cp_r\n",
    "print(f\"Compression ratio = {(ucp - cp) / ucp * 100:.2f}%\")"
   ]
  }
 ],
 "metadata": {
  "kernelspec": {
   "display_name": "moe",
   "language": "python",
   "name": "python3"
  },
  "language_info": {
   "codemirror_mode": {
    "name": "ipython",
    "version": 3
   },
   "file_extension": ".py",
   "mimetype": "text/x-python",
   "name": "python",
   "nbconvert_exporter": "python",
   "pygments_lexer": "ipython3",
   "version": "3.10.14"
  }
 },
 "nbformat": 4,
 "nbformat_minor": 2
}
