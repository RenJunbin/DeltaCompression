{
 "cells": [
  {
   "cell_type": "code",
   "execution_count": 1,
   "metadata": {},
   "outputs": [],
   "source": [
    "import torch\n",
    "import matplotlib.pyplot as plt\n",
    "import os\n",
    "import struct\n",
    "from collections import  defaultdict\n",
    "\n",
    "from transformers import T5ForConditionalGeneration"
   ]
  },
  {
   "cell_type": "code",
   "execution_count": 2,
   "metadata": {},
   "outputs": [],
   "source": [
    "def get_exponent(model, nbits):\n",
    "    exponent = {}\n",
    "    for idx, (name, param) in enumerate(model.named_parameters()):\n",
    "        # assert param.dtype is torch.float16\n",
    "        if param.ndim == 2 and param.shape[0] != 1 and param.shape[1] != 1:\n",
    "            r, c = param.shape\n",
    "            tensor_data = list(\n",
    "                map(lambda x: int(\n",
    "                        \"{}\".format(\n",
    "                                bin(\n",
    "                                    int.from_bytes(\n",
    "                                    struct.pack('>e', x), byteorder='big'\n",
    "                                    )\n",
    "                                )[3: 3+nbits]      # torch.float16 [3: 8] torch.bfloat16[3: 11]\n",
    "                            ), \n",
    "                            base=2\n",
    "                    ),\n",
    "                    param.abs().neg().reshape(-1).tolist()\n",
    "                )\n",
    "            )\n",
    "            tensor = torch.tensor(tensor_data, dtype=torch.int8).reshape(r, c)\n",
    "            exponent[name] = tensor\n",
    "    return exponent"
   ]
  },
  {
   "cell_type": "code",
   "execution_count": 3,
   "metadata": {},
   "outputs": [],
   "source": [
    "### Get the exponent ###\n",
    "models_hub = {\n",
    "    \"t5\": {\n",
    "        \"path\": \"/home/styaeng/project/delta-compress/pretrained_model/t5\",       ### 这里要写成下载后的模型权重文件所在的路径\n",
    "        \"hdlr\": T5ForConditionalGeneration.from_pretrained\n",
    "    }\n",
    "}\n",
    "t5_model = models_hub['t5']['hdlr'](models_hub['t5']['path'])\n",
    "t5_exponent = get_exponent(t5_model, nbits=5)"
   ]
  },
  {
   "cell_type": "code",
   "execution_count": 4,
   "metadata": {},
   "outputs": [],
   "source": [
    "'''\n",
    "2 bits\n",
    "    [0 | 1 | 2 | 3]\n",
    "3 bits\n",
    "    [0 | 1 | 2 | 3 | 4 | 5 | 6 | 7]\n",
    "4 bits\n",
    "    [0-15]\n",
    "5 bits\n",
    "    [0]\n",
    "'''\n",
    "\n",
    "pattern = [\n",
    "    [0, 1, 2, 3],\n",
    "    [0, 1, 2, 3, 4, 5, 6, 7],\n",
    "    [0, 1, 2, 3, 4, 5, 6, 7, 8, 9, 10, 11, 12, 13, 14, 15],\n",
    "    [0],\n",
    "]"
   ]
  },
  {
   "cell_type": "code",
   "execution_count": 11,
   "metadata": {},
   "outputs": [],
   "source": [
    "### Get the percentage in tile granularity ###\n",
    "tile_gran_pattern = []\n",
    "PageSize = 4 * 1024 * 8 # bits\n",
    "FP16 = 16   # bits\n",
    "for k, v in t5_exponent.items():\n",
    "    tile_pattern = defaultdict(dict)\n",
    "    row, col = v.shape\n",
    "    if col * FP16 <= PageSize:\n",
    "        tile_pattern[k] = \"LTP\"     # a.k.a of \"Less Than PageSize\"\n",
    "    else:\n",
    "        for row_idx in range(row):\n",
    "            tile = v[row_idx]\n",
    "            for shift in range(3, -1, -1):\n",
    "                tile_gran_pattern[k][row_idx] = defaultdict(dict)\n",
    "                idx = 3 - shift\n",
    "                pat = pattern[idx]\n",
    "                tmp = tile >> shift\n",
    "                for elem in pat:\n",
    "                    tile_pattern[k][row_idx][shift][elem] = torch.count_nonzero(tmp == elem).item()\n",
    "    tile_gran_pattern.append(tile_pattern)"
   ]
  },
  {
   "cell_type": "code",
   "execution_count": 28,
   "metadata": {},
   "outputs": [
    {
     "data": {
      "text/plain": [
       "defaultdict(dict, {'shared.weight': 'LTP'})"
      ]
     },
     "execution_count": 28,
     "metadata": {},
     "output_type": "execute_result"
    }
   ],
   "source": [
    "tile_gran_pattern[0]"
   ]
  },
  {
   "cell_type": "code",
   "execution_count": 46,
   "metadata": {},
   "outputs": [
    {
     "name": "stdout",
     "output_type": "stream",
     "text": [
      "torch.Size([1, 512])\n",
      "torch.Size([2, 512])\n"
     ]
    }
   ],
   "source": [
    "### Get the percentage in matrix granularity ###\n",
    "mat_gran_pattern = []\n",
    "PageSize = 4 * 1024 * 8 # bits\n",
    "FP16 = 16   # bits\n",
    "\n",
    "for k, v in t5_exponent.items():\n",
    "    row, col = v.shape\n",
    "    higher_cur = 0\n",
    "    lower_cur = higher_cur + 1\n",
    "    while lower_cur <= row:\n",
    "        \"\"\"\n",
    "        if tile[higher_cur]_compressed_size < PageSize:\n",
    "            lower_cur = lower_cur + 1\n",
    "        if tile[]\n",
    "        \"\"\" "
   ]
  },
  {
   "cell_type": "code",
   "execution_count": 48,
   "metadata": {},
   "outputs": [
    {
     "data": {
      "text/plain": [
       "torch.Size([512, 2048])"
      ]
     },
     "execution_count": 48,
     "metadata": {},
     "output_type": "execute_result"
    }
   ],
   "source": [
    "v.shape"
   ]
  },
  {
   "cell_type": "code",
   "execution_count": 53,
   "metadata": {},
   "outputs": [
    {
     "data": {
      "text/plain": [
       "torch.Size([510, 2048])"
      ]
     },
     "execution_count": 53,
     "metadata": {},
     "output_type": "execute_result"
    }
   ],
   "source": [
    "v[1:511].shape"
   ]
  },
  {
   "cell_type": "code",
   "execution_count": null,
   "metadata": {},
   "outputs": [],
   "source": []
  }
 ],
 "metadata": {
  "kernelspec": {
   "display_name": "moe",
   "language": "python",
   "name": "python3"
  },
  "language_info": {
   "codemirror_mode": {
    "name": "ipython",
    "version": 3
   },
   "file_extension": ".py",
   "mimetype": "text/x-python",
   "name": "python",
   "nbconvert_exporter": "python",
   "pygments_lexer": "ipython3",
   "version": "3.10.14"
  }
 },
 "nbformat": 4,
 "nbformat_minor": 2
}
