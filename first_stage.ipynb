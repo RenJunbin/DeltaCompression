{
 "cells": [
  {
   "cell_type": "code",
   "execution_count": 1,
   "metadata": {},
   "outputs": [],
   "source": [
    "import torch\n",
    "import matplotlib.pyplot as plt\n",
    "import os\n",
    "import struct\n",
    "from collections import  defaultdict\n",
    "\n",
    "from transformers import T5ForConditionalGeneration"
   ]
  },
  {
   "cell_type": "code",
   "execution_count": 2,
   "metadata": {},
   "outputs": [],
   "source": [
    "def get_exponent(model, nbits):\n",
    "    exponent = {}\n",
    "    for idx, (name, param) in enumerate(model.named_parameters()):\n",
    "        # assert param.dtype is torch.float16\n",
    "        if param.ndim == 2 and param.shape[0] != 1 and param.shape[1] != 1:\n",
    "            r, c = param.shape\n",
    "            tensor_data = list(\n",
    "                map(lambda x: int(\n",
    "                        \"{}\".format(\n",
    "                                bin(\n",
    "                                    int.from_bytes(\n",
    "                                    struct.pack('>e', x), byteorder='big'\n",
    "                                    )\n",
    "                                )[3: 3+nbits]      # torch.float16 [3: 8] torch.bfloat16[3: 11]\n",
    "                            ), \n",
    "                            base=2\n",
    "                    ),\n",
    "                    param.abs().neg().reshape(-1).tolist()\n",
    "                )\n",
    "            )\n",
    "            tensor = torch.tensor(tensor_data, dtype=torch.int8).reshape(r, c)\n",
    "            exponent[name] = tensor\n",
    "    return exponent"
   ]
  },
  {
   "cell_type": "code",
   "execution_count": 3,
   "metadata": {},
   "outputs": [],
   "source": [
    "### Get the exponent ###\n",
    "models_hub = {\n",
    "    \"t5\": {\n",
    "        \"path\": \"/home/styaeng/project/delta-compress/pretrained_model/t5\",       ### 这里要写成下载后的模型权重文件所在的路径\n",
    "        \"hdlr\": T5ForConditionalGeneration.from_pretrained\n",
    "    }\n",
    "}\n",
    "t5_model = models_hub['t5']['hdlr'](models_hub['t5']['path'])\n",
    "t5_exponent = get_exponent(t5_model, nbits=5)"
   ]
  },
  {
   "cell_type": "code",
   "execution_count": 4,
   "metadata": {},
   "outputs": [],
   "source": [
    "'''\n",
    "2 bits\n",
    "    [0 | 1 | 2 | 3]\n",
    "3 bits\n",
    "    [0 | 1 | 2 | 3 | 4 | 5 | 6 | 7]\n",
    "4 bits\n",
    "    [0-15]\n",
    "5 bits\n",
    "    [0]\n",
    "'''\n",
    "\n",
    "pattern = [\n",
    "    [0, 1, 2, 3],\n",
    "    [0, 1, 2, 3, 4, 5, 6, 7],\n",
    "    [0, 1, 2, 3, 4, 5, 6, 7, 8, 9, 10, 11, 12, 13, 14, 15],\n",
    "    [0],\n",
    "]"
   ]
  },
  {
   "cell_type": "code",
   "execution_count": 5,
   "metadata": {},
   "outputs": [],
   "source": [
    "### Get the percentage in tile granularity ###\n",
    "tile_gran_pattern = []\n",
    "PageSize = 4 * 1024 * 8 # bits\n",
    "FP16 = 16   # bits\n",
    "for k, tensor in t5_exponent.items():\n",
    "    tile_pattern = defaultdict(dict)\n",
    "    row, col = tensor.shape\n",
    "    if col * FP16 <= PageSize:\n",
    "        tile_pattern[k] = \"LTP\"     # a.k.a of \"Less Than PageSize\"\n",
    "    else:\n",
    "        for row_idx in range(row):\n",
    "            tile = tensor[row_idx]\n",
    "            for shift in range(3, -1, -1):\n",
    "                tile_pattern[k][row_idx] = defaultdict(dict)\n",
    "                idx = 3 - shift\n",
    "                pat = pattern[idx]\n",
    "                tmp = tile >> shift\n",
    "                for elem in pat:\n",
    "                    tile_pattern[k][row_idx][shift][elem] = torch.count_nonzero(tmp == elem).item()\n",
    "    tile_gran_pattern.append(tile_pattern)"
   ]
  },
  {
   "cell_type": "code",
   "execution_count": 235,
   "metadata": {},
   "outputs": [],
   "source": [
    "### Get the percentage in matrix granularity ###\n",
    "PageSize = 4 * 1024 * 8 # bits\n",
    "FP16 = 16   # bits\n",
    "mat_gran_pattern = []\n",
    "for name, tensor in t5_exponent.items():\n",
    "    row, col = tensor.shape\n",
    "    higher_cur = 0\n",
    "    lower_cur = higher_cur + PageSize // (col * FP16)\n",
    "    tensor_pattern = defaultdict(dict)\n",
    "    tensor_pattern['name'] = name\n",
    "    while lower_cur <= row:\n",
    "        tile_pattern = {}\n",
    "        tile = tensor[higher_cur: lower_cur]\n",
    "        for shift in range(3, -1, -1):\n",
    "            idx = 3 - shift\n",
    "            pat = pattern[idx]\n",
    "            tmp = tile >> shift\n",
    "            tile_pattern[idx+2] = {}\n",
    "            for elem in pat:\n",
    "                tile_pattern[idx+2][elem] = torch.count_nonzero(tmp == elem).item()\n",
    "        for bit in range(2, 5):\n",
    "            values = torch.tensor(list(tile_pattern[bit].values())).sort()[0]\n",
    "            values = torch.sort(values, descending=True)[0]\n",
    "            wasted_bits = (tile.numel() * FP16 + PageSize - 1) // PageSize * PageSize - values.sum() * FP16\n",
    "            flag = False\n",
    "            compressed_count = 0\n",
    "            for grp_count, v in enumerate(values):\n",
    "                v = v.item()\n",
    "                wasted_bits -= (v * (FP16 - bit) + bit - v * FP16)\n",
    "                compressed_count += v\n",
    "                original_bit_count = tile.numel() * FP16\n",
    "                original_page_count = (original_bit_count + PageSize - 1) // PageSize\n",
    "                compressed_bit_count = (v * (FP16 - bit) + bit) * grp_count + (values.sum().item() - compressed_count) * FP16\n",
    "                compressed_page_count = (compressed_bit_count + PageSize - 1) // PageSize\n",
    "                frac = compressed_page_count * PageSize - compressed_bit_count\n",
    "                if wasted_bits >= PageSize:\n",
    "                    flag = True\n",
    "                    # print(f\"Compress the tile successfully and free 1 page storage space!\\\n",
    "                    # \\nParam_name: {k}\\\n",
    "                    # \\nHigher_cur: {higher_cur}:{lower_cur}\\\n",
    "                    # \\nOriginal_bit_count = {original_bit_count} bits\\\n",
    "                    # \\nOriginal_page_count = {original_page_count} pages\\\n",
    "                    # \\nCompressed_bit_count = {compressed_bit_count} bits\\\n",
    "                    # \\nCompressed_page_count = {compressed_page_count} pages\\\n",
    "                    # \\nBits={bit}, group_counts={grp_count}, wasted_bits={wasted_bits} ({(wasted_bits / PageSize):.2f} page), frac={frac / (compressed_page_count * PageSize) * 100:.2f} %\")\n",
    "                    break\n",
    "        if lower_cur == row:\n",
    "            tensor_pattern[f\"{higher_cur}:{lower_cur}\"][\"original_bit_count\"] = original_bit_count\n",
    "            tensor_pattern[f\"{higher_cur}:{lower_cur}\"][\"original_page_count\"] = original_page_count\n",
    "            tensor_pattern[f\"{higher_cur}:{lower_cur}\"][\"compressed_bit_count\"] = compressed_bit_count\n",
    "            tensor_pattern[f\"{higher_cur}:{lower_cur}\"][\"compressed_page_count\"] = compressed_page_count\n",
    "            tensor_pattern[f\"{higher_cur}:{lower_cur}\"][\"compressed_ratio\"] = (original_page_count - compressed_page_count) / original_page_count\n",
    "            break\n",
    "        if not flag:\n",
    "            if (row - higher_cur) * col * FP16 < PageSize:\n",
    "                lower_cur = row\n",
    "            else:\n",
    "                lower_cur += 1\n",
    "        else:\n",
    "            if frac > compressed_bit_count:\n",
    "                if (row - higher_cur) * col * FP16 < PageSize:\n",
    "                    lower_cur = row\n",
    "                else:\n",
    "                    lower_cur += 1\n",
    "            else:\n",
    "                tensor_pattern[f\"{higher_cur}:{lower_cur}\"][\"original_bit_count\"] = original_bit_count\n",
    "                tensor_pattern[f\"{higher_cur}:{lower_cur}\"][\"original_page_count\"] = original_page_count\n",
    "                tensor_pattern[f\"{higher_cur}:{lower_cur}\"][\"compressed_bit_count\"] = compressed_bit_count\n",
    "                tensor_pattern[f\"{higher_cur}:{lower_cur}\"][\"compressed_page_count\"] = compressed_page_count\n",
    "                tensor_pattern[f\"{higher_cur}:{lower_cur}\"][\"compressed_ratio\"] = (original_page_count - compressed_page_count) / original_page_count\n",
    "                if (row - higher_cur) * col * FP16 < PageSize:\n",
    "                    lower_cur = row\n",
    "                else:\n",
    "                    higher_cur = lower_cur\n",
    "                    lower_cur = higher_cur + PageSize // (col * FP16)\n",
    "                    if lower_cur > row:\n",
    "                        lower_cur = row\n",
    "    mat_gran_pattern.append(tensor_pattern)"
   ]
  },
  {
   "cell_type": "code",
   "execution_count": 246,
   "metadata": {},
   "outputs": [],
   "source": [
    "# compressed_ratio = 0\n",
    "# for idx, (k, v) in enumerate(t5_exponent.items()):\n",
    "#     stats = list(mat_gran_pattern[idx].values())[1:]\n",
    "#     for stat in stats:\n",
    "#         cp_r = stat['compressed_ratio']\n",
    "#         compressed_ratio += cp_r"
   ]
  },
  {
   "cell_type": "code",
   "execution_count": 165,
   "metadata": {},
   "outputs": [
    {
     "name": "stdout",
     "output_type": "stream",
     "text": [
      "Compress the tile successfully and free 1 page storage space!            \n",
      "With bits=4, group_counts=2, wasted_bits=38044 (1.16 page)!\n"
     ]
    }
   ],
   "source": [
    "for bit in range(2, 5):\n",
    "    values = torch.tensor(list(tile_pattern[bit].values())).sort()[0]\n",
    "    values = torch.sort(values, descending=True)[0]\n",
    "    wasted_bits = factor * PageSize - values.sum() * FP16\n",
    "    for grp_count, v in enumerate(values):\n",
    "        wasted_bits -= (v * (FP16 - bit) + bit - v * FP16)\n",
    "        # print(f\"bit={bit}, group_counts={grp_count+1}, wasted_bits={wasted_bits} bits\")\n",
    "        if wasted_bits >= PageSize:\n",
    "            print(f\"Compress the tile successfully and free 1 page storage space!\\\n",
    "            \\nWith bits={bit}, group_counts={grp_count}, wasted_bits={wasted_bits} ({(wasted_bits / PageSize):.2f} page)!\")\n",
    "            break"
   ]
  },
  {
   "cell_type": "code",
   "execution_count": 46,
   "metadata": {},
   "outputs": [
    {
     "name": "stdout",
     "output_type": "stream",
     "text": [
      "torch.Size([1, 512])\n",
      "torch.Size([2, 512])\n"
     ]
    }
   ],
   "source": [
    "### Get the percentage in matrix granularity ###\n",
    "mat_gran_pattern = []\n",
    "PageSize = 4 * 1024 * 8 # bits\n",
    "FP16 = 16   # bits\n",
    "\n",
    "for k, v in t5_exponent.items():\n",
    "    row, col = v.shape\n",
    "    higher_cur = 0\n",
    "    lower_cur = higher_cur + PageSize // (col * FP16)\n",
    "    while lower_cur <= row:\n",
    "        \"\"\"\n",
    "        # 优化点:\n",
    "            1. 没必要一行一行地进行计算，在初始tile存储占用还没有到PageSize的时候是没有必要计算压缩后的存储收益的；\n",
    "        if tile[higher_cur]_compressed_size < PageSize:\n",
    "            lower_cur = lower_cur + 1\n",
    "        if tile[]\n",
    "        \"\"\" \n",
    "        tile = v[higher_cur: lower_cur]\n",
    "        "
   ]
  }
 ],
 "metadata": {
  "kernelspec": {
   "display_name": "moe",
   "language": "python",
   "name": "python3"
  },
  "language_info": {
   "codemirror_mode": {
    "name": "ipython",
    "version": 3
   },
   "file_extension": ".py",
   "mimetype": "text/x-python",
   "name": "python",
   "nbconvert_exporter": "python",
   "pygments_lexer": "ipython3",
   "version": "3.10.14"
  }
 },
 "nbformat": 4,
 "nbformat_minor": 2
}
