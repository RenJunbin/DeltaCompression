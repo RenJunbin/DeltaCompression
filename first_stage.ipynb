{
 "cells": [
  {
   "cell_type": "code",
   "execution_count": 7,
   "metadata": {},
   "outputs": [],
   "source": [
    "import torch\n",
    "import matplotlib.pyplot as plt\n",
    "import os\n",
    "import struct\n",
    "from collections import  defaultdict\n",
    "\n",
    "from transformers import T5ForConditionalGeneration"
   ]
  },
  {
   "cell_type": "code",
   "execution_count": 4,
   "metadata": {},
   "outputs": [],
   "source": [
    "def get_exponent(model, nbits):\n",
    "    exponent = {}\n",
    "    for idx, (name, param) in enumerate(model.named_parameters()):\n",
    "        # assert param.dtype is torch.float16\n",
    "        if param.ndim == 2:\n",
    "            r, c = param.shape\n",
    "            tensor_data = list(\n",
    "                map(lambda x: int(\n",
    "                        \"{}\".format(\n",
    "                                bin(\n",
    "                                    int.from_bytes(\n",
    "                                    struct.pack('>e', x), byteorder='big'\n",
    "                                    )\n",
    "                                )[3: 3+nbits]      # torch.float16 [3: 8] torch.bfloat16[3: 11]\n",
    "                            ), \n",
    "                            base=2\n",
    "                    ),\n",
    "                    param.abs().neg().reshape(-1).tolist()\n",
    "                )\n",
    "            )\n",
    "            tensor = torch.tensor(tensor_data, dtype=torch.int8).reshape(r, c)\n",
    "            exponent[name] = tensor\n",
    "    return exponent"
   ]
  },
  {
   "cell_type": "code",
   "execution_count": 5,
   "metadata": {},
   "outputs": [],
   "source": [
    "### Get the exponent ###\n",
    "models_hub = {\n",
    "    \"t5\": {\n",
    "        \"path\": \"/home/styaeng/project/delta-compress/pretrained_model/t5\",       ### 这里要写成下载后的模型权重文件所在的路径\n",
    "        \"hdlr\": T5ForConditionalGeneration.from_pretrained\n",
    "    }\n",
    "}\n",
    "t5_model = models_hub['t5']['hdlr'](models_hub['t5']['path'])\n",
    "t5_exponent = get_exponent(t5_model, nbits=5)"
   ]
  },
  {
   "cell_type": "code",
   "execution_count": 6,
   "metadata": {},
   "outputs": [],
   "source": [
    "'''\n",
    "2 bits\n",
    "    [0 | 1 | 2 | 3]\n",
    "3 bits\n",
    "    [0 | 1 | 2 | 3 | 4 | 5 | 6 | 7]\n",
    "4 bits\n",
    "    [0-15]\n",
    "5 bits\n",
    "    [0]\n",
    "'''\n",
    "\n",
    "pattern = [\n",
    "    [0, 1, 2, 3],\n",
    "    [0, 1, 2, 3, 4, 5, 6, 7],\n",
    "    [0, 1, 2, 3, 4, 5, 6, 7, 8, 9, 10, 11, 12, 13, 14, 15],\n",
    "    [0],\n",
    "]"
   ]
  },
  {
   "cell_type": "code",
   "execution_count": 15,
   "metadata": {},
   "outputs": [],
   "source": [
    "### Get the percentage in matrix granularity ###\n",
    "tensor_pattern = []\n",
    "for k, v in t5_exponent.items():\n",
    "    # tensor_self_pattern[\"name\"] = k\n",
    "    tensor_self_pattern = defaultdict(dict)\n",
    "    tensor_self_pattern['name'] = k\n",
    "    row, col = v.shape\n",
    "    t = v\n",
    "    for shift in range(3, -1, -1):\n",
    "        idx = 3 - shift\n",
    "        pat = pattern[idx]\n",
    "        tmp = t >> shift\n",
    "        tensor_self_pattern[f'{idx+2}_bits'] = {}\n",
    "        for elem in pat:\n",
    "            tensor_self_pattern[f\"{idx+2}_bits\"][elem] = torch.count_nonzero(tmp == elem) / (row * col)\n",
    "        # tensor_self_pattern['compress_num'][value] = torch.count_nonzero(t == value) / (row * col)\n",
    "    tensor_pattern.append(tensor_self_pattern)"
   ]
  },
  {
   "cell_type": "code",
   "execution_count": 20,
   "metadata": {},
   "outputs": [
    {
     "ename": "KeyError",
     "evalue": "0",
     "output_type": "error",
     "traceback": [
      "\u001b[0;31m---------------------------------------------------------------------------\u001b[0m",
      "\u001b[0;31mKeyError\u001b[0m                                  Traceback (most recent call last)",
      "Cell \u001b[0;32mIn[20], line 17\u001b[0m\n\u001b[1;32m     15\u001b[0m         tmp \u001b[38;5;241m=\u001b[39m tile \u001b[38;5;241m>>\u001b[39m shift\n\u001b[1;32m     16\u001b[0m         \u001b[38;5;28;01mfor\u001b[39;00m elem \u001b[38;5;129;01min\u001b[39;00m pat:\n\u001b[0;32m---> 17\u001b[0m             \u001b[43mtensor_self_pattern\u001b[49m\u001b[43m[\u001b[49m\u001b[38;5;124;43m'\u001b[39;49m\u001b[38;5;124;43mrow_idx\u001b[39;49m\u001b[38;5;124;43m'\u001b[39;49m\u001b[43m]\u001b[49m\u001b[43m[\u001b[49m\u001b[43mrow_idx\u001b[49m\u001b[43m]\u001b[49m[\u001b[38;5;124mf\u001b[39m\u001b[38;5;124m\"\u001b[39m\u001b[38;5;132;01m{\u001b[39;00midx\u001b[38;5;241m+\u001b[39m\u001b[38;5;241m2\u001b[39m\u001b[38;5;132;01m}\u001b[39;00m\u001b[38;5;124m_bits\u001b[39m\u001b[38;5;124m\"\u001b[39m][elem] \u001b[38;5;241m=\u001b[39m torch\u001b[38;5;241m.\u001b[39mcount_nonzero(tmp \u001b[38;5;241m==\u001b[39m elem) \u001b[38;5;241m/\u001b[39m col\n\u001b[1;32m     18\u001b[0m tensor_pattern\u001b[38;5;241m.\u001b[39mappend(tensor_self_pattern)\n",
      "\u001b[0;31mKeyError\u001b[0m: 0"
     ]
    }
   ],
   "source": [
    "### Get the percentage in tile granularity ###\n",
    "tensor_pattern = []\n",
    "for k, v in t5_exponent.items():\n",
    "    # tensor_self_pattern[\"name\"] = k\n",
    "    tensor_self_pattern = defaultdict(dict)\n",
    "    # tensor_self_pattern['name']\n",
    "    row, col = v.shape\n",
    "    t = v\n",
    "    for row_idx in range(row):\n",
    "        tensor_self_pattern['row_id'][row_idx] = {}\n",
    "        for shift in range(3, -1, -1):\n",
    "            tile = t[row_idx]\n",
    "            idx = 3 - shift\n",
    "            pat = pattern[idx]\n",
    "            tmp = tile >> shift\n",
    "            for elem in pat:\n",
    "                tensor_self_pattern['row_idx'][row_idx][f\"{idx+2}_bits\"][elem] = torch.count_nonzero(tmp == elem) / col\n",
    "        tensor_pattern.append(tensor_self_pattern)"
   ]
  },
  {
   "cell_type": "code",
   "execution_count": null,
   "metadata": {},
   "outputs": [],
   "source": []
  }
 ],
 "metadata": {
  "kernelspec": {
   "display_name": "moe",
   "language": "python",
   "name": "python3"
  },
  "language_info": {
   "codemirror_mode": {
    "name": "ipython",
    "version": 3
   },
   "file_extension": ".py",
   "mimetype": "text/x-python",
   "name": "python",
   "nbconvert_exporter": "python",
   "pygments_lexer": "ipython3",
   "version": "3.10.14"
  }
 },
 "nbformat": 4,
 "nbformat_minor": 2
}
