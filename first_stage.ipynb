{
 "cells": [
  {
   "cell_type": "code",
   "execution_count": 1,
   "metadata": {},
   "outputs": [],
   "source": [
    "import torch\n",
    "import matplotlib.pyplot as plt\n",
    "import struct\n",
    "from collections import  defaultdict\n",
    "\n",
    "from transformers import GPT2LMHeadModel\n",
    "from transformers import AutoTokenizer\n",
    "from transformers import LlamaForCausalLM\n",
    "from transformers import T5ForConditionalGeneration\n",
    "\n",
    "import tqdm"
   ]
  },
  {
   "cell_type": "code",
   "execution_count": 5,
   "metadata": {},
   "outputs": [],
   "source": [
    "def get_exponent(model, nbits):\n",
    "    exponent = {}\n",
    "    for idx, (name, param) in tqdm.tqdm(enumerate(model.named_parameters())):\n",
    "        # assert param.dtype is torch.float16\n",
    "        if param.ndim == 2 and param.shape[0] != 1 and param.shape[1] != 1:\n",
    "            r, c = param.shape\n",
    "            tensor_data = list(\n",
    "                map(lambda x: int(\n",
    "                        \"{}\".format(\n",
    "                                bin(\n",
    "                                    int.from_bytes(\n",
    "                                    struct.pack('>e', x), byteorder='big'\n",
    "                                    )\n",
    "                                )[3: 3+nbits]      # torch.float16 [3: 8] torch.bfloat16[3: 11]\n",
    "                            ), \n",
    "                            base=2\n",
    "                    ),\n",
    "                    param.abs().neg().reshape(-1).tolist()\n",
    "                )\n",
    "            )\n",
    "            tensor = torch.tensor(tensor_data, dtype=torch.int8).reshape(r, c)\n",
    "            exponent[name] = tensor\n",
    "    return exponent"
   ]
  },
  {
   "cell_type": "code",
   "execution_count": 6,
   "metadata": {},
   "outputs": [],
   "source": [
    "### Get the exponent ###\n",
    "models_hub = {\n",
    "    \"t5\": {\n",
    "        \"path\": \"/home/styaeng/project/delta-compress/pretrained_model/t5\",       ### 这里要写成下载后的模型权重文件所在的路径\n",
    "        \"hdlr\": T5ForConditionalGeneration.from_pretrained\n",
    "    },\n",
    "    \"gpt2\": {\n",
    "        \"path\": \"/home/styaeng/project/delta-compress/pretrained_model/gpt2\",       ### 这里要写成下载后的模型权重文件所在的路径\n",
    "        \"hdlr\": GPT2LMHeadModel.from_pretrained\n",
    "    },\n",
    "    \"llama2\": {\n",
    "        \"path\": \"/home/styaeng/project/delta-compress/pretrained_model/llama2\",       ### 这里要写成下载后的模型权重文件所在的路径\n",
    "        \"hdlr\": LlamaForCausalLM.from_pretrained\n",
    "    },\n",
    "}"
   ]
  },
  {
   "cell_type": "code",
   "execution_count": 4,
   "metadata": {},
   "outputs": [
    {
     "name": "stderr",
     "output_type": "stream",
     "text": [
      "131it [00:23,  5.53it/s]\n"
     ]
    }
   ],
   "source": [
    "t5_model = models_hub['t5']['hdlr'](models_hub['t5']['path'])\n",
    "t5_exponent = get_exponent(t5_model, nbits=5)"
   ]
  },
  {
   "cell_type": "code",
   "execution_count": 21,
   "metadata": {},
   "outputs": [],
   "source": [
    "gpt2_model = models_hub['gpt2']['hdlr'](models_hub['gpt2']['path'])\n",
    "gpt2_exponent = get_exponent(gpt2_model, nbits=5)"
   ]
  },
  {
   "cell_type": "code",
   "execution_count": 7,
   "metadata": {},
   "outputs": [
    {
     "data": {
      "application/vnd.jupyter.widget-view+json": {
       "model_id": "4d4f2b3e5e844abfab1c087e8371237e",
       "version_major": 2,
       "version_minor": 0
      },
      "text/plain": [
       "Loading checkpoint shards:   0%|          | 0/2 [00:00<?, ?it/s]"
      ]
     },
     "metadata": {},
     "output_type": "display_data"
    },
    {
     "name": "stderr",
     "output_type": "stream",
     "text": [
      "23it [04:23, 11.45s/it]\n"
     ]
    },
    {
     "ename": "KeyboardInterrupt",
     "evalue": "",
     "output_type": "error",
     "traceback": [
      "\u001b[0;31m---------------------------------------------------------------------------\u001b[0m",
      "\u001b[0;31mKeyboardInterrupt\u001b[0m                         Traceback (most recent call last)",
      "Cell \u001b[0;32mIn[7], line 2\u001b[0m\n\u001b[1;32m      1\u001b[0m llama2_model \u001b[38;5;241m=\u001b[39m models_hub[\u001b[38;5;124m'\u001b[39m\u001b[38;5;124mllama2\u001b[39m\u001b[38;5;124m'\u001b[39m][\u001b[38;5;124m'\u001b[39m\u001b[38;5;124mhdlr\u001b[39m\u001b[38;5;124m'\u001b[39m](models_hub[\u001b[38;5;124m'\u001b[39m\u001b[38;5;124mllama2\u001b[39m\u001b[38;5;124m'\u001b[39m][\u001b[38;5;124m'\u001b[39m\u001b[38;5;124mpath\u001b[39m\u001b[38;5;124m'\u001b[39m])\n\u001b[0;32m----> 2\u001b[0m llama2_exponent \u001b[38;5;241m=\u001b[39m \u001b[43mget_exponent\u001b[49m\u001b[43m(\u001b[49m\u001b[43mllama2_model\u001b[49m\u001b[43m,\u001b[49m\u001b[43m \u001b[49m\u001b[43mnbits\u001b[49m\u001b[38;5;241;43m=\u001b[39;49m\u001b[38;5;241;43m5\u001b[39;49m\u001b[43m)\u001b[49m\n",
      "Cell \u001b[0;32mIn[5], line 7\u001b[0m, in \u001b[0;36mget_exponent\u001b[0;34m(model, nbits)\u001b[0m\n\u001b[1;32m      5\u001b[0m \u001b[38;5;28;01mif\u001b[39;00m param\u001b[38;5;241m.\u001b[39mndim \u001b[38;5;241m==\u001b[39m \u001b[38;5;241m2\u001b[39m \u001b[38;5;129;01mand\u001b[39;00m param\u001b[38;5;241m.\u001b[39mshape[\u001b[38;5;241m0\u001b[39m] \u001b[38;5;241m!=\u001b[39m \u001b[38;5;241m1\u001b[39m \u001b[38;5;129;01mand\u001b[39;00m param\u001b[38;5;241m.\u001b[39mshape[\u001b[38;5;241m1\u001b[39m] \u001b[38;5;241m!=\u001b[39m \u001b[38;5;241m1\u001b[39m:\n\u001b[1;32m      6\u001b[0m     r, c \u001b[38;5;241m=\u001b[39m param\u001b[38;5;241m.\u001b[39mshape\n\u001b[0;32m----> 7\u001b[0m     tensor_data \u001b[38;5;241m=\u001b[39m \u001b[38;5;28;43mlist\u001b[39;49m\u001b[43m(\u001b[49m\n\u001b[1;32m      8\u001b[0m \u001b[43m        \u001b[49m\u001b[38;5;28;43mmap\u001b[39;49m\u001b[43m(\u001b[49m\u001b[38;5;28;43;01mlambda\u001b[39;49;00m\u001b[43m \u001b[49m\u001b[43mx\u001b[49m\u001b[43m:\u001b[49m\u001b[43m \u001b[49m\u001b[38;5;28;43mint\u001b[39;49m\u001b[43m(\u001b[49m\n\u001b[1;32m      9\u001b[0m \u001b[43m                \u001b[49m\u001b[38;5;124;43m\"\u001b[39;49m\u001b[38;5;132;43;01m{}\u001b[39;49;00m\u001b[38;5;124;43m\"\u001b[39;49m\u001b[38;5;241;43m.\u001b[39;49m\u001b[43mformat\u001b[49m\u001b[43m(\u001b[49m\n\u001b[1;32m     10\u001b[0m \u001b[43m                        \u001b[49m\u001b[38;5;28;43mbin\u001b[39;49m\u001b[43m(\u001b[49m\n\u001b[1;32m     11\u001b[0m \u001b[43m                            \u001b[49m\u001b[38;5;28;43mint\u001b[39;49m\u001b[38;5;241;43m.\u001b[39;49m\u001b[43mfrom_bytes\u001b[49m\u001b[43m(\u001b[49m\n\u001b[1;32m     12\u001b[0m \u001b[43m                            \u001b[49m\u001b[43mstruct\u001b[49m\u001b[38;5;241;43m.\u001b[39;49m\u001b[43mpack\u001b[49m\u001b[43m(\u001b[49m\u001b[38;5;124;43m'\u001b[39;49m\u001b[38;5;124;43m>e\u001b[39;49m\u001b[38;5;124;43m'\u001b[39;49m\u001b[43m,\u001b[49m\u001b[43m \u001b[49m\u001b[43mx\u001b[49m\u001b[43m)\u001b[49m\u001b[43m,\u001b[49m\u001b[43m \u001b[49m\u001b[43mbyteorder\u001b[49m\u001b[38;5;241;43m=\u001b[39;49m\u001b[38;5;124;43m'\u001b[39;49m\u001b[38;5;124;43mbig\u001b[39;49m\u001b[38;5;124;43m'\u001b[39;49m\n\u001b[1;32m     13\u001b[0m \u001b[43m                            \u001b[49m\u001b[43m)\u001b[49m\n\u001b[1;32m     14\u001b[0m \u001b[43m                        \u001b[49m\u001b[43m)\u001b[49m\u001b[43m[\u001b[49m\u001b[38;5;241;43m3\u001b[39;49m\u001b[43m:\u001b[49m\u001b[43m \u001b[49m\u001b[38;5;241;43m3\u001b[39;49m\u001b[38;5;241;43m+\u001b[39;49m\u001b[43mnbits\u001b[49m\u001b[43m]\u001b[49m\u001b[43m      \u001b[49m\u001b[38;5;66;43;03m# torch.float16 [3: 8] torch.bfloat16[3: 11]\u001b[39;49;00m\n\u001b[1;32m     15\u001b[0m \u001b[43m                    \u001b[49m\u001b[43m)\u001b[49m\u001b[43m,\u001b[49m\u001b[43m \u001b[49m\n\u001b[1;32m     16\u001b[0m \u001b[43m                    \u001b[49m\u001b[43mbase\u001b[49m\u001b[38;5;241;43m=\u001b[39;49m\u001b[38;5;241;43m2\u001b[39;49m\n\u001b[1;32m     17\u001b[0m \u001b[43m            \u001b[49m\u001b[43m)\u001b[49m\u001b[43m,\u001b[49m\n\u001b[1;32m     18\u001b[0m \u001b[43m            \u001b[49m\u001b[43mparam\u001b[49m\u001b[38;5;241;43m.\u001b[39;49m\u001b[43mabs\u001b[49m\u001b[43m(\u001b[49m\u001b[43m)\u001b[49m\u001b[38;5;241;43m.\u001b[39;49m\u001b[43mneg\u001b[49m\u001b[43m(\u001b[49m\u001b[43m)\u001b[49m\u001b[38;5;241;43m.\u001b[39;49m\u001b[43mreshape\u001b[49m\u001b[43m(\u001b[49m\u001b[38;5;241;43m-\u001b[39;49m\u001b[38;5;241;43m1\u001b[39;49m\u001b[43m)\u001b[49m\u001b[38;5;241;43m.\u001b[39;49m\u001b[43mtolist\u001b[49m\u001b[43m(\u001b[49m\u001b[43m)\u001b[49m\n\u001b[1;32m     19\u001b[0m \u001b[43m        \u001b[49m\u001b[43m)\u001b[49m\n\u001b[1;32m     20\u001b[0m \u001b[43m    \u001b[49m\u001b[43m)\u001b[49m\n\u001b[1;32m     21\u001b[0m     tensor \u001b[38;5;241m=\u001b[39m torch\u001b[38;5;241m.\u001b[39mtensor(tensor_data, dtype\u001b[38;5;241m=\u001b[39mtorch\u001b[38;5;241m.\u001b[39mint8)\u001b[38;5;241m.\u001b[39mreshape(r, c)\n\u001b[1;32m     22\u001b[0m     exponent[name] \u001b[38;5;241m=\u001b[39m tensor\n",
      "Cell \u001b[0;32mIn[5], line 8\u001b[0m, in \u001b[0;36mget_exponent.<locals>.<lambda>\u001b[0;34m(x)\u001b[0m\n\u001b[1;32m      5\u001b[0m \u001b[38;5;28;01mif\u001b[39;00m param\u001b[38;5;241m.\u001b[39mndim \u001b[38;5;241m==\u001b[39m \u001b[38;5;241m2\u001b[39m \u001b[38;5;129;01mand\u001b[39;00m param\u001b[38;5;241m.\u001b[39mshape[\u001b[38;5;241m0\u001b[39m] \u001b[38;5;241m!=\u001b[39m \u001b[38;5;241m1\u001b[39m \u001b[38;5;129;01mand\u001b[39;00m param\u001b[38;5;241m.\u001b[39mshape[\u001b[38;5;241m1\u001b[39m] \u001b[38;5;241m!=\u001b[39m \u001b[38;5;241m1\u001b[39m:\n\u001b[1;32m      6\u001b[0m     r, c \u001b[38;5;241m=\u001b[39m param\u001b[38;5;241m.\u001b[39mshape\n\u001b[1;32m      7\u001b[0m     tensor_data \u001b[38;5;241m=\u001b[39m \u001b[38;5;28mlist\u001b[39m(\n\u001b[0;32m----> 8\u001b[0m         \u001b[38;5;28mmap\u001b[39m(\u001b[38;5;28;01mlambda\u001b[39;00m x: \u001b[38;5;28;43mint\u001b[39;49m\u001b[43m(\u001b[49m\n\u001b[1;32m      9\u001b[0m \u001b[43m                \u001b[49m\u001b[38;5;124;43m\"\u001b[39;49m\u001b[38;5;132;43;01m{}\u001b[39;49;00m\u001b[38;5;124;43m\"\u001b[39;49m\u001b[38;5;241;43m.\u001b[39;49m\u001b[43mformat\u001b[49m\u001b[43m(\u001b[49m\n\u001b[1;32m     10\u001b[0m \u001b[43m                        \u001b[49m\u001b[38;5;28;43mbin\u001b[39;49m\u001b[43m(\u001b[49m\n\u001b[1;32m     11\u001b[0m \u001b[43m                            \u001b[49m\u001b[38;5;28;43mint\u001b[39;49m\u001b[38;5;241;43m.\u001b[39;49m\u001b[43mfrom_bytes\u001b[49m\u001b[43m(\u001b[49m\n\u001b[1;32m     12\u001b[0m \u001b[43m                            \u001b[49m\u001b[43mstruct\u001b[49m\u001b[38;5;241;43m.\u001b[39;49m\u001b[43mpack\u001b[49m\u001b[43m(\u001b[49m\u001b[38;5;124;43m'\u001b[39;49m\u001b[38;5;124;43m>e\u001b[39;49m\u001b[38;5;124;43m'\u001b[39;49m\u001b[43m,\u001b[49m\u001b[43m \u001b[49m\u001b[43mx\u001b[49m\u001b[43m)\u001b[49m\u001b[43m,\u001b[49m\u001b[43m \u001b[49m\u001b[43mbyteorder\u001b[49m\u001b[38;5;241;43m=\u001b[39;49m\u001b[38;5;124;43m'\u001b[39;49m\u001b[38;5;124;43mbig\u001b[39;49m\u001b[38;5;124;43m'\u001b[39;49m\n\u001b[1;32m     13\u001b[0m \u001b[43m                            \u001b[49m\u001b[43m)\u001b[49m\n\u001b[1;32m     14\u001b[0m \u001b[43m                        \u001b[49m\u001b[43m)\u001b[49m\u001b[43m[\u001b[49m\u001b[38;5;241;43m3\u001b[39;49m\u001b[43m:\u001b[49m\u001b[43m \u001b[49m\u001b[38;5;241;43m3\u001b[39;49m\u001b[38;5;241;43m+\u001b[39;49m\u001b[43mnbits\u001b[49m\u001b[43m]\u001b[49m\u001b[43m      \u001b[49m\u001b[38;5;66;43;03m# torch.float16 [3: 8] torch.bfloat16[3: 11]\u001b[39;49;00m\n\u001b[1;32m     15\u001b[0m \u001b[43m                    \u001b[49m\u001b[43m)\u001b[49m\u001b[43m,\u001b[49m\u001b[43m \u001b[49m\n\u001b[1;32m     16\u001b[0m \u001b[43m                    \u001b[49m\u001b[43mbase\u001b[49m\u001b[38;5;241;43m=\u001b[39;49m\u001b[38;5;241;43m2\u001b[39;49m\n\u001b[1;32m     17\u001b[0m \u001b[43m            \u001b[49m\u001b[43m)\u001b[49m,\n\u001b[1;32m     18\u001b[0m             param\u001b[38;5;241m.\u001b[39mabs()\u001b[38;5;241m.\u001b[39mneg()\u001b[38;5;241m.\u001b[39mreshape(\u001b[38;5;241m-\u001b[39m\u001b[38;5;241m1\u001b[39m)\u001b[38;5;241m.\u001b[39mtolist()\n\u001b[1;32m     19\u001b[0m         )\n\u001b[1;32m     20\u001b[0m     )\n\u001b[1;32m     21\u001b[0m     tensor \u001b[38;5;241m=\u001b[39m torch\u001b[38;5;241m.\u001b[39mtensor(tensor_data, dtype\u001b[38;5;241m=\u001b[39mtorch\u001b[38;5;241m.\u001b[39mint8)\u001b[38;5;241m.\u001b[39mreshape(r, c)\n\u001b[1;32m     22\u001b[0m     exponent[name] \u001b[38;5;241m=\u001b[39m tensor\n",
      "\u001b[0;31mKeyboardInterrupt\u001b[0m: "
     ]
    }
   ],
   "source": [
    "llama2_model = models_hub['llama2']['hdlr'](models_hub['llama2']['path'])\n",
    "llama2_exponent = get_exponent(llama2_model, nbits=5)"
   ]
  },
  {
   "cell_type": "code",
   "execution_count": 22,
   "metadata": {},
   "outputs": [],
   "source": [
    "'''\n",
    "2 bits\n",
    "    [0 | 1 | 2 | 3]\n",
    "3 bits\n",
    "    [0 | 1 | 2 | 3 | 4 | 5 | 6 | 7]\n",
    "4 bits\n",
    "    [0-15]\n",
    "5 bits\n",
    "    [0]\n",
    "'''\n",
    "\n",
    "pattern = [\n",
    "    [0, 1, 2, 3],\n",
    "    [0, 1, 2, 3, 4, 5, 6, 7],\n",
    "    [0, 1, 2, 3, 4, 5, 6, 7, 8, 9, 10, 11, 12, 13, 14, 15],\n",
    "    [0],\n",
    "]"
   ]
  },
  {
   "cell_type": "code",
   "execution_count": 5,
   "metadata": {},
   "outputs": [],
   "source": [
    "### Get the percentage in tile granularity ###\n",
    "tile_gran_pattern = []\n",
    "PageSize = 4 * 1024 * 8 # bits\n",
    "FP16 = 16   # bits\n",
    "for k, tensor in t5_exponent.items():\n",
    "    tile_pattern = defaultdict(dict)\n",
    "    row, col = tensor.shape\n",
    "    if col * FP16 <= PageSize:\n",
    "        tile_pattern[k] = \"LTP\"     # a.k.a of \"Less Than PageSize\"\n",
    "    else:\n",
    "        for row_idx in range(row):\n",
    "            tile = tensor[row_idx]\n",
    "            for shift in range(3, -1, -1):\n",
    "                tile_pattern[k][row_idx] = defaultdict(dict)\n",
    "                idx = 3 - shift\n",
    "                pat = pattern[idx]\n",
    "                tmp = tile >> shift\n",
    "                for elem in pat:\n",
    "                    tile_pattern[k][row_idx][shift][elem] = torch.count_nonzero(tmp == elem).item()\n",
    "    tile_gran_pattern.append(tile_pattern)"
   ]
  },
  {
   "cell_type": "code",
   "execution_count": 6,
   "metadata": {},
   "outputs": [],
   "source": [
    "### Get the percentage in matrix granularity ###\n",
    "PageSize = 4 * 1024 * 8 # bits\n",
    "FP16 = 16   # bits\n",
    "mat_gran_pattern = []\n",
    "for name, tensor in t5_exponent.items():\n",
    "    row, col = tensor.shape\n",
    "    higher_cur = 0\n",
    "    lower_cur = higher_cur + PageSize // (col * FP16)\n",
    "    tensor_pattern = defaultdict(dict)\n",
    "    tensor_pattern['name'] = name\n",
    "    while lower_cur <= row:\n",
    "        tile_pattern = {}\n",
    "        tile = tensor[higher_cur: lower_cur]\n",
    "        for shift in range(3, -1, -1):\n",
    "            idx = 3 - shift\n",
    "            pat = pattern[idx]\n",
    "            tmp = tile >> shift\n",
    "            tile_pattern[idx+2] = {}\n",
    "            for elem in pat:\n",
    "                tile_pattern[idx+2][elem] = torch.count_nonzero(tmp == elem).item()\n",
    "        for bit in range(2, 5):\n",
    "            values = torch.tensor(list(tile_pattern[bit].values())).sort()[0]\n",
    "            values = torch.sort(values, descending=True)[0]\n",
    "            wasted_bits = (tile.numel() * FP16 + PageSize - 1) // PageSize * PageSize - values.sum() * FP16\n",
    "            flag = False\n",
    "            compressed_count = 0\n",
    "            for grp_count, v in enumerate(values):\n",
    "                v = v.item()\n",
    "                wasted_bits -= (v * (FP16 - bit) + bit - v * FP16)\n",
    "                compressed_count += v\n",
    "                original_bit_count = tile.numel() * FP16\n",
    "                original_page_count = (original_bit_count + PageSize - 1) // PageSize\n",
    "                compressed_bit_count = (v * (FP16 - bit) + bit) * grp_count + (values.sum().item() - compressed_count) * FP16\n",
    "                compressed_page_count = (compressed_bit_count + PageSize - 1) // PageSize\n",
    "                frac = compressed_page_count * PageSize - compressed_bit_count\n",
    "                if wasted_bits >= PageSize:\n",
    "                    flag = True\n",
    "                    break\n",
    "        if lower_cur == row:\n",
    "            tensor_pattern[f\"{higher_cur}:{lower_cur}\"][\"original_bit_count\"] = original_bit_count\n",
    "            tensor_pattern[f\"{higher_cur}:{lower_cur}\"][\"compressed_bit_count\"] = compressed_bit_count\n",
    "            tensor_pattern[f\"{higher_cur}:{lower_cur}\"][\"compressed_page_count\"] = compressed_page_count\n",
    "            break\n",
    "        if not flag:\n",
    "            if (row - higher_cur) * col * FP16 < PageSize:\n",
    "                lower_cur = row\n",
    "            else:\n",
    "                lower_cur += 1\n",
    "        else:\n",
    "            if frac > compressed_bit_count:\n",
    "                if (row - higher_cur) * col * FP16 < PageSize:\n",
    "                    lower_cur = row\n",
    "                else:\n",
    "                    lower_cur += 1\n",
    "            else:\n",
    "                tensor_pattern[f\"{higher_cur}:{lower_cur}\"][\"original_bit_count\"] = original_bit_count\n",
    "                tensor_pattern[f\"{higher_cur}:{lower_cur}\"][\"compressed_bit_count\"] = compressed_bit_count\n",
    "                tensor_pattern[f\"{higher_cur}:{lower_cur}\"][\"compressed_page_count\"] = compressed_page_count\n",
    "                if (row - higher_cur) * col * FP16 < PageSize:\n",
    "                    lower_cur = row\n",
    "                else:\n",
    "                    higher_cur = lower_cur\n",
    "                    lower_cur = higher_cur + PageSize // (col * FP16)\n",
    "                    if lower_cur > row:\n",
    "                        lower_cur = row\n",
    "    mat_gran_pattern.append(tensor_pattern)"
   ]
  },
  {
   "cell_type": "code",
   "execution_count": 15,
   "metadata": {},
   "outputs": [
    {
     "name": "stdout",
     "output_type": "stream",
     "text": [
      "Compression ratio = 27.95%\n"
     ]
    }
   ],
   "source": [
    "compressed_ratio = 0\n",
    "cp = 0\n",
    "ucp = 0\n",
    "for idx, (k, v) in enumerate(t5_exponent.items()):\n",
    "    stats = list(mat_gran_pattern[idx].values())[1:]\n",
    "    for stat in stats:\n",
    "        cp += stat['compressed_page_count']\n",
    "    ucp += (v.numel() * FP16 // PageSize)\n",
    "        # compressed_ratio += cp_r\n",
    "print(f\"Compression ratio = {(ucp - cp) / ucp * 100:.2f}%\")\n"
   ]
  },
  {
   "cell_type": "code",
   "execution_count": 23,
   "metadata": {},
   "outputs": [],
   "source": [
    "### Get the percentage in matrix granularity ###\n",
    "PageSize = 4 * 1024 * 8 # bits\n",
    "FP16 = 16   # bits\n",
    "mat_gran_pattern = []\n",
    "for name, tensor in gpt2_exponent.items():\n",
    "    row, col = tensor.shape\n",
    "    higher_cur = 0\n",
    "    lower_cur = higher_cur + PageSize // (col * FP16)\n",
    "    tensor_pattern = defaultdict(dict)\n",
    "    tensor_pattern['name'] = name\n",
    "    while lower_cur <= row:\n",
    "        tile_pattern = {}\n",
    "        tile = tensor[higher_cur: lower_cur]\n",
    "        for shift in range(3, -1, -1):\n",
    "            idx = 3 - shift\n",
    "            pat = pattern[idx]\n",
    "            tmp = tile >> shift\n",
    "            tile_pattern[idx+2] = {}\n",
    "            for elem in pat:\n",
    "                tile_pattern[idx+2][elem] = torch.count_nonzero(tmp == elem).item()\n",
    "        for bit in range(2, 5):\n",
    "            values = torch.tensor(list(tile_pattern[bit].values())).sort()[0]\n",
    "            values = torch.sort(values, descending=True)[0]\n",
    "            wasted_bits = (tile.numel() * FP16 + PageSize - 1) // PageSize * PageSize - values.sum() * FP16\n",
    "            flag = False\n",
    "            compressed_count = 0\n",
    "            for grp_count, v in enumerate(values):\n",
    "                v = v.item()\n",
    "                wasted_bits -= (v * (FP16 - bit) + bit - v * FP16)\n",
    "                compressed_count += v\n",
    "                original_bit_count = tile.numel() * FP16\n",
    "                original_page_count = (original_bit_count + PageSize - 1) // PageSize\n",
    "                compressed_bit_count = (v * (FP16 - bit) + bit) * grp_count + (values.sum().item() - compressed_count) * FP16\n",
    "                compressed_page_count = (compressed_bit_count + PageSize - 1) // PageSize\n",
    "                frac = compressed_page_count * PageSize - compressed_bit_count\n",
    "                if wasted_bits >= PageSize:\n",
    "                    flag = True\n",
    "                    break\n",
    "        if lower_cur == row:\n",
    "            tensor_pattern[f\"{higher_cur}:{lower_cur}\"][\"original_bit_count\"] = original_bit_count\n",
    "            tensor_pattern[f\"{higher_cur}:{lower_cur}\"][\"compressed_bit_count\"] = compressed_bit_count\n",
    "            tensor_pattern[f\"{higher_cur}:{lower_cur}\"][\"compressed_page_count\"] = compressed_page_count\n",
    "            break\n",
    "        if not flag:\n",
    "            if (row - higher_cur) * col * FP16 < PageSize:\n",
    "                lower_cur = row\n",
    "            else:\n",
    "                lower_cur += 1\n",
    "        else:\n",
    "            if frac > compressed_bit_count:\n",
    "                if (row - higher_cur) * col * FP16 < PageSize:\n",
    "                    lower_cur = row\n",
    "                else:\n",
    "                    lower_cur += 1\n",
    "            else:\n",
    "                tensor_pattern[f\"{higher_cur}:{lower_cur}\"][\"original_bit_count\"] = original_bit_count\n",
    "                tensor_pattern[f\"{higher_cur}:{lower_cur}\"][\"compressed_bit_count\"] = compressed_bit_count\n",
    "                tensor_pattern[f\"{higher_cur}:{lower_cur}\"][\"compressed_page_count\"] = compressed_page_count\n",
    "                if (row - higher_cur) * col * FP16 < PageSize:\n",
    "                    lower_cur = row\n",
    "                else:\n",
    "                    higher_cur = lower_cur\n",
    "                    lower_cur = higher_cur + PageSize // (col * FP16)\n",
    "                    if lower_cur > row:\n",
    "                        lower_cur = row\n",
    "    mat_gran_pattern.append(tensor_pattern)"
   ]
  },
  {
   "cell_type": "code",
   "execution_count": 24,
   "metadata": {},
   "outputs": [
    {
     "name": "stdout",
     "output_type": "stream",
     "text": [
      "Compression ratio = 19.54%\n"
     ]
    }
   ],
   "source": [
    "compressed_ratio = 0\n",
    "cp = 0\n",
    "ucp = 0\n",
    "for idx, (k, v) in enumerate(gpt2_exponent.items()):\n",
    "    stats = list(mat_gran_pattern[idx].values())[1:]\n",
    "    for stat in stats:\n",
    "        cp += stat['compressed_page_count']\n",
    "    ucp += (v.numel() * FP16 // PageSize)\n",
    "        # compressed_ratio += cp_r\n",
    "print(f\"Compression ratio = {(ucp - cp) / ucp * 100:.2f}%\")"
   ]
  },
  {
   "cell_type": "code",
   "execution_count": null,
   "metadata": {},
   "outputs": [],
   "source": [
    "### Get the percentage in matrix granularity ###\n",
    "PageSize = 4 * 1024 * 8 # bits\n",
    "FP16 = 16   # bits\n",
    "mat_gran_pattern = []\n",
    "for name, tensor in llama2_exponent.items():\n",
    "    row, col = tensor.shape\n",
    "    higher_cur = 0\n",
    "    lower_cur = higher_cur + PageSize // (col * FP16)\n",
    "    tensor_pattern = defaultdict(dict)\n",
    "    tensor_pattern['name'] = name\n",
    "    while lower_cur <= row:\n",
    "        tile_pattern = {}\n",
    "        tile = tensor[higher_cur: lower_cur]\n",
    "        for shift in range(3, -1, -1):\n",
    "            idx = 3 - shift\n",
    "            pat = pattern[idx]\n",
    "            tmp = tile >> shift\n",
    "            tile_pattern[idx+2] = {}\n",
    "            for elem in pat:\n",
    "                tile_pattern[idx+2][elem] = torch.count_nonzero(tmp == elem).item()\n",
    "        for bit in range(2, 5):\n",
    "            values = torch.tensor(list(tile_pattern[bit].values())).sort()[0]\n",
    "            values = torch.sort(values, descending=True)[0]\n",
    "            wasted_bits = (tile.numel() * FP16 + PageSize - 1) // PageSize * PageSize - values.sum() * FP16\n",
    "            flag = False\n",
    "            compressed_count = 0\n",
    "            for grp_count, v in enumerate(values):\n",
    "                v = v.item()\n",
    "                wasted_bits -= (v * (FP16 - bit) + bit - v * FP16)\n",
    "                compressed_count += v\n",
    "                original_bit_count = tile.numel() * FP16\n",
    "                original_page_count = (original_bit_count + PageSize - 1) // PageSize\n",
    "                compressed_bit_count = (v * (FP16 - bit) + bit) * grp_count + (values.sum().item() - compressed_count) * FP16\n",
    "                compressed_page_count = (compressed_bit_count + PageSize - 1) // PageSize\n",
    "                frac = compressed_page_count * PageSize - compressed_bit_count\n",
    "                if wasted_bits >= PageSize:\n",
    "                    flag = True\n",
    "                    break\n",
    "        if lower_cur == row:\n",
    "            tensor_pattern[f\"{higher_cur}:{lower_cur}\"][\"original_bit_count\"] = original_bit_count\n",
    "            tensor_pattern[f\"{higher_cur}:{lower_cur}\"][\"compressed_bit_count\"] = compressed_bit_count\n",
    "            tensor_pattern[f\"{higher_cur}:{lower_cur}\"][\"compressed_page_count\"] = compressed_page_count\n",
    "            break\n",
    "        if not flag:\n",
    "            if (row - higher_cur) * col * FP16 < PageSize:\n",
    "                lower_cur = row\n",
    "            else:\n",
    "                lower_cur += 1\n",
    "        else:\n",
    "            if frac > compressed_bit_count:\n",
    "                if (row - higher_cur) * col * FP16 < PageSize:\n",
    "                    lower_cur = row\n",
    "                else:\n",
    "                    lower_cur += 1\n",
    "            else:\n",
    "                tensor_pattern[f\"{higher_cur}:{lower_cur}\"][\"original_bit_count\"] = original_bit_count\n",
    "                tensor_pattern[f\"{higher_cur}:{lower_cur}\"][\"compressed_bit_count\"] = compressed_bit_count\n",
    "                tensor_pattern[f\"{higher_cur}:{lower_cur}\"][\"compressed_page_count\"] = compressed_page_count\n",
    "                if (row - higher_cur) * col * FP16 < PageSize:\n",
    "                    lower_cur = row\n",
    "                else:\n",
    "                    higher_cur = lower_cur\n",
    "                    lower_cur = higher_cur + PageSize // (col * FP16)\n",
    "                    if lower_cur > row:\n",
    "                        lower_cur = row\n",
    "    mat_gran_pattern.append(tensor_pattern)"
   ]
  },
  {
   "cell_type": "code",
   "execution_count": null,
   "metadata": {},
   "outputs": [],
   "source": [
    "compressed_ratio = 0\n",
    "cp = 0\n",
    "ucp = 0\n",
    "for idx, (k, v) in enumerate(llama2_exponent.items()):\n",
    "    stats = list(mat_gran_pattern[idx].values())[1:]\n",
    "    for stat in stats:\n",
    "        cp += stat['compressed_page_count']\n",
    "    ucp += (v.numel() * FP16 // PageSize)\n",
    "        # compressed_ratio += cp_r\n",
    "print(f\"Compression ratio = {(ucp - cp) / ucp * 100:.2f}%\")"
   ]
  }
 ],
 "metadata": {
  "kernelspec": {
   "display_name": "moe",
   "language": "python",
   "name": "python3"
  },
  "language_info": {
   "codemirror_mode": {
    "name": "ipython",
    "version": 3
   },
   "file_extension": ".py",
   "mimetype": "text/x-python",
   "name": "python",
   "nbconvert_exporter": "python",
   "pygments_lexer": "ipython3",
   "version": "3.10.14"
  }
 },
 "nbformat": 4,
 "nbformat_minor": 2
}
